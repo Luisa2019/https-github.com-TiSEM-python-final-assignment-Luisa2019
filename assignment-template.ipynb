{
  "nbformat": 4,
  "nbformat_minor": 0,
  "metadata": {
    "colab": {
      "name": "Untitled0.ipynb",
      "provenance": [],
      "collapsed_sections": [],
      "toc_visible": true
    },
    "kernelspec": {
      "name": "python3",
      "display_name": "Python 3"
    }
  },
  "cells": [
    {
      "cell_type": "markdown",
      "metadata": {
        "id": "lH3BgCAYlNJv",
        "colab_type": "text"
      },
      "source": [
        "# Python assignment\n",
        "\n",
        "|Name|SNR|UNR|\n",
        "|----|---|----|\n",
        "|Luisa Loiacono|2041503|u657424|"
      ]
    },
    {
      "cell_type": "markdown",
      "metadata": {
        "id": "lCKQ2DGNlNiw",
        "colab_type": "text"
      },
      "source": [
        "# Research question\n",
        "The research question investigates whether the success of traditional parties, at local level, is related to the size of the municipalities. The analysis aims at showing that, at local level, as the population size of a municipality decreases, the traditional top-down strcutured parties are less likely to succeed, while the local lists become stronger in smaller municipalities.\n",
        "\n",
        "\n"
      ]
    },
    {
      "cell_type": "markdown",
      "metadata": {
        "id": "2Ced9jFtlN0A",
        "colab_type": "text"
      },
      "source": [
        "#Motivation\n",
        "Lately, the growth of the populist movements worldwide has drawn the attention to the mechanisms behind the elections. Understanding the motivations leading to the success of the populist parties is of pivotal importance in analyzing the current situation. The intuition behind this analysis, supported by the previous literature (*Vampa, 2016*), is that in small municipalities the local lists, not supported by traditional top-down structured parties, are preferred thanks to their proximity to the social fabric. In this specific case, I will use a dataset from the European and local elections held in Italy on May 26, 2019. The dataset includes all the municipalities from Emilia Romagna region, and it was collected from the 'Eligendo' section of the website of the Italian Ministry of Internal Affairs (https://dait.interno.gov.it/elezioni). During the elections held in May 2019, the municipalities included in this dataset, voted simultaneously for both the local elections (mayor) and the European elections. The expectation is that as the municipalities get smaller, the difference in the votes obtained at the European and local elections increases. \n",
        "The dataset was built by extracting data from the website linked in this section.\n",
        "\n",
        "\n",
        "\n",
        "> *Davide Vampa (2016), 'Declining partisan representation at the sub-national level: assessing and explaining the strengthening of local lists in Italian municipalities (1995–2014)', Local Government Studies, 42:4, 579-597, DOI: 10.1080/03003930.2016.1146137*\n",
        "\n"
      ]
    },
    {
      "cell_type": "markdown",
      "metadata": {
        "id": "8xhACls0ldK-",
        "colab_type": "text"
      },
      "source": [
        "#Method\n",
        "The method used is based on the data analysis. The main variable considered is called 'diff_dx' and it is equal to the difference, per municipality, between the percentage of votes for the right party at the European level and the percentage of votes for the right party at the local level. This variable suggests to what extent the voters are consistent when they vote, the smaller the difference, the more the voters are consistent, the stronger the traditional party. The other relevant variable to the analysis is the population variable which is expressed in number of inhabitants. In order to keep the analysis simple and clear, the method will involve descriptive statistics, some relavant graphs and three different regressions. The relationship between the popualation and the difference in votes is expected to be negative, as the population increases, the variable 'diff_dx' decreases.\n",
        "\n",
        "## Dependent variable\n",
        "The dependent variable is built in line with the relevant literautre (Schakel, 2011) and it is equal to the difference between the votes at the European level for the right party and the votes at the local level for the same right party.\n",
        "The difference is computed in vote shares and it is referred in literature as congruence of vote. The complete congruence occurs when *'the same parties compete in both general and regional elections and obtain exactly equal vote share'*. Congruence is here measured by a dissimilarity index, which subtracts vote shares of the same party participating in different elections:\n",
        "\\begin{equation}\n",
        "diff = votes \\space eu - votes \\space local\n",
        "\\end{equation}\n",
        "\n",
        "## Independent variables\n",
        "- Population range: this variable is derived from the population variable in order to give a more reliable measure of the population effect. In the second regression dummy variables are assigned to each range;\n",
        "- Turnover at the European election: this variable is used in the third regression as a control variable.\n",
        "\n",
        "> *Arjan H. Schakel (2013), 'Congruence Between Regional and National Elections', Comparative Political Studies 2013 46: 631, DOI:10.1177/0010414011424112*"
      ]
    },
    {
      "cell_type": "markdown",
      "metadata": {
        "id": "ldrQ6R-UldkG",
        "colab_type": "text"
      },
      "source": [
        "# Preview of the answers\n",
        "There is evidence of a negative relationship between the population and the difference in votes between the European and the local parties, meaning that in smaller municipalities, the voters shift their preferences from the traditional top-down right wing party (at the EU level) to the local informal lists (at local level)."
      ]
    },
    {
      "cell_type": "markdown",
      "metadata": {
        "id": "YfSSZJqolvyA",
        "colab_type": "text"
      },
      "source": [
        "# Main Assumptions\n",
        "The main assumptions are:\n",
        "- the voters that did not vote the right party at the local elections, voted the informal local party (the so called 'lista civica') and we assume that they did not move the left party: the only options are either right or local party;\n",
        "- a nexus of causality between the size of the municipality and the difference in votes can be considered;\n",
        "- the voters swtich their preferences because they trust the local party more than they trust the traditional party."
      ]
    },
    {
      "cell_type": "markdown",
      "metadata": {
        "id": "08BZNR7ylwIo",
        "colab_type": "text"
      },
      "source": [
        "# Data\n",
        "\n",
        "Dataset: \n",
        "- the dataset is retrieved from https://dait.interno.gov.it/elezioni, the dataset was not available online;\n",
        "- the variables are: 'municipality', 'pop', number of inhabitants in 2018, and 'diff_dx', the difference, per municipality, between the percentage of votes for the right party at the European level and the percentage of votes for the right party at the local level. For example, if in the municipality of Ferrara, the right wing gained the 45% at the European elections and the 38% at the local elections, the variable will be 7% which will suggest that 7% of voters voted a local list instead of voting the traditional right party. "
      ]
    },
    {
      "cell_type": "markdown",
      "metadata": {
        "id": "aSwqxqNVl5EA",
        "colab_type": "text"
      },
      "source": [
        "# Python code\n"
      ]
    },
    {
      "cell_type": "markdown",
      "metadata": {
        "id": "kPcZWk6CYBm9",
        "colab_type": "text"
      },
      "source": [
        "In the following code I import the library and the data."
      ]
    },
    {
      "cell_type": "code",
      "metadata": {
        "id": "Ryn9biAdU6dc",
        "colab_type": "code",
        "outputId": "246d72d1-aa7d-480d-b455-d7761f7d0a9a",
        "colab": {
          "base_uri": "https://localhost:8080/",
          "height": 461
        }
      },
      "source": [
        "\n",
        "# Importing library\n",
        "import pandas as pd\n",
        "import matplotlib.pyplot as plt\n",
        "import numpy as np\n",
        "import pymc3 as pm\n",
        "import seaborn as sns\n",
        "from scipy import stats, optimize\n",
        "import random\n",
        "import statistics as st\n",
        "from scipy.stats import skew\n",
        "import pylab\n",
        "import statsmodels.api as sm\n",
        "from numpy import pi, arange, sin, linspace\n",
        "from bokeh.plotting import output_file, figure, show\n",
        "from bokeh.models import LinearAxis, Range1d\n",
        "\n",
        "# Hiding\n",
        "import warnings\n",
        "warnings.filterwarnings('ignore')\n",
        "\n",
        "# Setting the plotting style\n",
        "%matplotlib inline\n",
        "plt.style.use('seaborn')\n",
        "\n",
        "# Importing the data\n",
        "df = pd.read_csv ('/AEA.csv', delimiter=';')\n",
        "print (df)\n",
        "df.info()"
      ],
      "execution_count": 83,
      "outputs": [
        {
          "output_type": "stream",
          "text": [
            "       pop           municipality  p_votes_eu  turnover_eu  p_votes_c  diff_dx\n",
            "0      972               MORFASSO        77.7         60.8       10.9     66.8\n",
            "1     8898              FISCAGLIA        53.0         68.0       10.9     42.1\n",
            "2    15957              NONANTOLA        33.6         69.3       12.2     21.4\n",
            "3     9110               REGGIOLO        39.7         73.1       12.7     27.0\n",
            "4    19234            CASALGRANDE        41.1         68.1       13.3     27.8\n",
            "..     ...                    ...         ...          ...        ...      ...\n",
            "116  14833                RUBIERA        38.2         70.9       58.9    -20.7\n",
            "117    777            PREMILCUORE        57.4         83.8       59.6     -2.2\n",
            "118  10802  SAN FELICE SUL PANARO        56.1         72.7       61.3     -5.2\n",
            "119   1874     ROCCA SAN CASCIANO        57.3         72.0       62.5     -5.2\n",
            "120    718                   BORE        65.3         77.3       69.1     -3.8\n",
            "\n",
            "[121 rows x 6 columns]\n",
            "<class 'pandas.core.frame.DataFrame'>\n",
            "RangeIndex: 121 entries, 0 to 120\n",
            "Data columns (total 6 columns):\n",
            "pop             121 non-null int64\n",
            "municipality    121 non-null object\n",
            "p_votes_eu      121 non-null float64\n",
            "turnover_eu     121 non-null float64\n",
            "p_votes_c       121 non-null float64\n",
            "diff_dx         121 non-null float64\n",
            "dtypes: float64(4), int64(1), object(1)\n",
            "memory usage: 5.8+ KB\n"
          ],
          "name": "stdout"
        }
      ]
    },
    {
      "cell_type": "code",
      "metadata": {
        "id": "Qnj5GWv4VYvW",
        "colab_type": "code",
        "outputId": "820efc81-0e2e-49cd-be56-d19001992bb3",
        "colab": {
          "base_uri": "https://localhost:8080/",
          "height": 265
        }
      },
      "source": [
        "# Changing the name of the variable 'pop'\n",
        "new_df = df.rename(columns = {\"pop\": \"population\", \n",
        "                                  }) \n",
        "print (new_df)"
      ],
      "execution_count": 84,
      "outputs": [
        {
          "output_type": "stream",
          "text": [
            "     population           municipality  ...  p_votes_c  diff_dx\n",
            "0           972               MORFASSO  ...       10.9     66.8\n",
            "1          8898              FISCAGLIA  ...       10.9     42.1\n",
            "2         15957              NONANTOLA  ...       12.2     21.4\n",
            "3          9110               REGGIOLO  ...       12.7     27.0\n",
            "4         19234            CASALGRANDE  ...       13.3     27.8\n",
            "..          ...                    ...  ...        ...      ...\n",
            "116       14833                RUBIERA  ...       58.9    -20.7\n",
            "117         777            PREMILCUORE  ...       59.6     -2.2\n",
            "118       10802  SAN FELICE SUL PANARO  ...       61.3     -5.2\n",
            "119        1874     ROCCA SAN CASCIANO  ...       62.5     -5.2\n",
            "120         718                   BORE  ...       69.1     -3.8\n",
            "\n",
            "[121 rows x 6 columns]\n"
          ],
          "name": "stdout"
        }
      ]
    },
    {
      "cell_type": "markdown",
      "metadata": {
        "id": "UCsvqh4sNY5r",
        "colab_type": "text"
      },
      "source": [
        "There are no missing data."
      ]
    },
    {
      "cell_type": "code",
      "metadata": {
        "id": "PMHvIVDKNLSS",
        "colab_type": "code",
        "outputId": "aa4a691f-2f64-46db-9ba7-9ea95c41ab0c",
        "colab": {
          "base_uri": "https://localhost:8080/",
          "height": 497
        }
      },
      "source": [
        "# Showing the head of the dataset\n",
        "new_df.head(15)\n"
      ],
      "execution_count": 85,
      "outputs": [
        {
          "output_type": "execute_result",
          "data": {
            "text/html": [
              "<div>\n",
              "<style scoped>\n",
              "    .dataframe tbody tr th:only-of-type {\n",
              "        vertical-align: middle;\n",
              "    }\n",
              "\n",
              "    .dataframe tbody tr th {\n",
              "        vertical-align: top;\n",
              "    }\n",
              "\n",
              "    .dataframe thead th {\n",
              "        text-align: right;\n",
              "    }\n",
              "</style>\n",
              "<table border=\"1\" class=\"dataframe\">\n",
              "  <thead>\n",
              "    <tr style=\"text-align: right;\">\n",
              "      <th></th>\n",
              "      <th>population</th>\n",
              "      <th>municipality</th>\n",
              "      <th>p_votes_eu</th>\n",
              "      <th>turnover_eu</th>\n",
              "      <th>p_votes_c</th>\n",
              "      <th>diff_dx</th>\n",
              "    </tr>\n",
              "  </thead>\n",
              "  <tbody>\n",
              "    <tr>\n",
              "      <th>0</th>\n",
              "      <td>972</td>\n",
              "      <td>MORFASSO</td>\n",
              "      <td>77.7</td>\n",
              "      <td>60.8</td>\n",
              "      <td>10.9</td>\n",
              "      <td>66.8</td>\n",
              "    </tr>\n",
              "    <tr>\n",
              "      <th>1</th>\n",
              "      <td>8898</td>\n",
              "      <td>FISCAGLIA</td>\n",
              "      <td>53.0</td>\n",
              "      <td>68.0</td>\n",
              "      <td>10.9</td>\n",
              "      <td>42.1</td>\n",
              "    </tr>\n",
              "    <tr>\n",
              "      <th>2</th>\n",
              "      <td>15957</td>\n",
              "      <td>NONANTOLA</td>\n",
              "      <td>33.6</td>\n",
              "      <td>69.3</td>\n",
              "      <td>12.2</td>\n",
              "      <td>21.4</td>\n",
              "    </tr>\n",
              "    <tr>\n",
              "      <th>3</th>\n",
              "      <td>9110</td>\n",
              "      <td>REGGIOLO</td>\n",
              "      <td>39.7</td>\n",
              "      <td>73.1</td>\n",
              "      <td>12.7</td>\n",
              "      <td>27.0</td>\n",
              "    </tr>\n",
              "    <tr>\n",
              "      <th>4</th>\n",
              "      <td>19234</td>\n",
              "      <td>CASALGRANDE</td>\n",
              "      <td>41.1</td>\n",
              "      <td>68.1</td>\n",
              "      <td>13.3</td>\n",
              "      <td>27.8</td>\n",
              "    </tr>\n",
              "    <tr>\n",
              "      <th>5</th>\n",
              "      <td>32473</td>\n",
              "      <td>SAN LAZZARO DI SAVENA</td>\n",
              "      <td>37.0</td>\n",
              "      <td>74.0</td>\n",
              "      <td>13.3</td>\n",
              "      <td>23.7</td>\n",
              "    </tr>\n",
              "    <tr>\n",
              "      <th>6</th>\n",
              "      <td>10346</td>\n",
              "      <td>LANGHIRANO</td>\n",
              "      <td>57.1</td>\n",
              "      <td>74.0</td>\n",
              "      <td>13.3</td>\n",
              "      <td>43.8</td>\n",
              "    </tr>\n",
              "    <tr>\n",
              "      <th>7</th>\n",
              "      <td>6471</td>\n",
              "      <td>GUALTIERI</td>\n",
              "      <td>47.1</td>\n",
              "      <td>66.3</td>\n",
              "      <td>13.4</td>\n",
              "      <td>33.7</td>\n",
              "    </tr>\n",
              "    <tr>\n",
              "      <th>8</th>\n",
              "      <td>11263</td>\n",
              "      <td>SANT'ILARIO D'ENZA</td>\n",
              "      <td>38.9</td>\n",
              "      <td>69.6</td>\n",
              "      <td>14.9</td>\n",
              "      <td>24.0</td>\n",
              "    </tr>\n",
              "    <tr>\n",
              "      <th>9</th>\n",
              "      <td>30849</td>\n",
              "      <td>VALSAMOGGIA</td>\n",
              "      <td>38.9</td>\n",
              "      <td>70.7</td>\n",
              "      <td>15.0</td>\n",
              "      <td>23.9</td>\n",
              "    </tr>\n",
              "    <tr>\n",
              "      <th>10</th>\n",
              "      <td>2970</td>\n",
              "      <td>ROCCABIANCA</td>\n",
              "      <td>56.7</td>\n",
              "      <td>60.2</td>\n",
              "      <td>16.1</td>\n",
              "      <td>40.6</td>\n",
              "    </tr>\n",
              "    <tr>\n",
              "      <th>11</th>\n",
              "      <td>14903</td>\n",
              "      <td>SASSO MARCONI</td>\n",
              "      <td>38.9</td>\n",
              "      <td>72.9</td>\n",
              "      <td>16.2</td>\n",
              "      <td>22.7</td>\n",
              "    </tr>\n",
              "    <tr>\n",
              "      <th>12</th>\n",
              "      <td>3589</td>\n",
              "      <td>BOBBIO</td>\n",
              "      <td>64.2</td>\n",
              "      <td>64.7</td>\n",
              "      <td>16.6</td>\n",
              "      <td>47.6</td>\n",
              "    </tr>\n",
              "    <tr>\n",
              "      <th>13</th>\n",
              "      <td>6460</td>\n",
              "      <td>SAN CESARIO SUL PANARO</td>\n",
              "      <td>39.4</td>\n",
              "      <td>74.0</td>\n",
              "      <td>17.1</td>\n",
              "      <td>22.3</td>\n",
              "    </tr>\n",
              "    <tr>\n",
              "      <th>14</th>\n",
              "      <td>873</td>\n",
              "      <td>COLI</td>\n",
              "      <td>70.6</td>\n",
              "      <td>70.5</td>\n",
              "      <td>17.2</td>\n",
              "      <td>53.4</td>\n",
              "    </tr>\n",
              "  </tbody>\n",
              "</table>\n",
              "</div>"
            ],
            "text/plain": [
              "    population            municipality  ...  p_votes_c  diff_dx\n",
              "0          972                MORFASSO  ...       10.9     66.8\n",
              "1         8898               FISCAGLIA  ...       10.9     42.1\n",
              "2        15957               NONANTOLA  ...       12.2     21.4\n",
              "3         9110                REGGIOLO  ...       12.7     27.0\n",
              "4        19234             CASALGRANDE  ...       13.3     27.8\n",
              "5        32473   SAN LAZZARO DI SAVENA  ...       13.3     23.7\n",
              "6        10346              LANGHIRANO  ...       13.3     43.8\n",
              "7         6471               GUALTIERI  ...       13.4     33.7\n",
              "8        11263      SANT'ILARIO D'ENZA  ...       14.9     24.0\n",
              "9        30849             VALSAMOGGIA  ...       15.0     23.9\n",
              "10        2970             ROCCABIANCA  ...       16.1     40.6\n",
              "11       14903           SASSO MARCONI  ...       16.2     22.7\n",
              "12        3589                  BOBBIO  ...       16.6     47.6\n",
              "13        6460  SAN CESARIO SUL PANARO  ...       17.1     22.3\n",
              "14         873                    COLI  ...       17.2     53.4\n",
              "\n",
              "[15 rows x 6 columns]"
            ]
          },
          "metadata": {
            "tags": []
          },
          "execution_count": 85
        }
      ]
    },
    {
      "cell_type": "markdown",
      "metadata": {
        "id": "pOULo1Z0joCS",
        "colab_type": "text"
      },
      "source": [
        "## Variables description\n",
        "The dataset contains 121 observations and 6 variables. The variables are:\n",
        "\n",
        "\n",
        "*   'population': population in number of inhabitants in 2018;\n",
        "*   'municipality': name of the municipality;\n",
        "*   'p_votes_eu': percentage of votes for the right wing party at the European elections;\n",
        "*   'p_votes_c': percentage of votes for the right wing party at the local elections;\n",
        "*   'turnover_eu': turnover for the European elections;\n",
        "*   'diff_dx': 'p_votes_eu' - 'p_votes_c'.\n",
        "\n",
        "\n",
        "\n",
        "\n",
        "\n"
      ]
    },
    {
      "cell_type": "markdown",
      "metadata": {
        "id": "hLLgNJpqmzFK",
        "colab_type": "text"
      },
      "source": [
        "## Descriptive statistics"
      ]
    },
    {
      "cell_type": "markdown",
      "metadata": {
        "id": "9y9kWtPXKGiZ",
        "colab_type": "text"
      },
      "source": [
        "## Mean, variance, median, outliers\n"
      ]
    },
    {
      "cell_type": "markdown",
      "metadata": {
        "id": "tkNkrqQc2Twl",
        "colab_type": "text"
      },
      "source": [
        "###Difference in votes"
      ]
    },
    {
      "cell_type": "code",
      "metadata": {
        "id": "2q1inm192TSh",
        "colab_type": "code",
        "outputId": "d6f17ec5-2508-44b3-dd2e-7bb0a732d77b",
        "colab": {
          "base_uri": "https://localhost:8080/",
          "height": 176
        }
      },
      "source": [
        "# Descriptive statistics for Difference in votes\n",
        "new_df.diff_dx.describe()"
      ],
      "execution_count": 86,
      "outputs": [
        {
          "output_type": "execute_result",
          "data": {
            "text/plain": [
              "count    121.000000\n",
              "mean      16.916529\n",
              "std       13.224153\n",
              "min      -20.700000\n",
              "25%        7.800000\n",
              "50%       15.400000\n",
              "75%       22.700000\n",
              "max       66.800000\n",
              "Name: diff_dx, dtype: float64"
            ]
          },
          "metadata": {
            "tags": []
          },
          "execution_count": 86
        }
      ]
    },
    {
      "cell_type": "code",
      "metadata": {
        "id": "0wVmiqdg2g0W",
        "colab_type": "code",
        "outputId": "75fbeb7e-4c64-4887-9891-f3af912bdeba",
        "colab": {
          "base_uri": "https://localhost:8080/",
          "height": 34
        }
      },
      "source": [
        "st.median(new_df.diff_dx)"
      ],
      "execution_count": 87,
      "outputs": [
        {
          "output_type": "execute_result",
          "data": {
            "text/plain": [
              "15.4"
            ]
          },
          "metadata": {
            "tags": []
          },
          "execution_count": 87
        }
      ]
    },
    {
      "cell_type": "markdown",
      "metadata": {
        "id": "K2fXxoKgL3-1",
        "colab_type": "text"
      },
      "source": [
        "The congruence of votes includes some negative values. As we are looking for congruence, the absolute value of this variable should be taken into account."
      ]
    },
    {
      "cell_type": "markdown",
      "metadata": {
        "id": "nNUoq5seO1b5",
        "colab_type": "text"
      },
      "source": [
        "### Votes EU"
      ]
    },
    {
      "cell_type": "code",
      "metadata": {
        "id": "An1giaqgaQI8",
        "colab_type": "code",
        "outputId": "02f53d66-104b-4d47-d6f1-cd1a5007edca",
        "colab": {
          "base_uri": "https://localhost:8080/",
          "height": 176
        }
      },
      "source": [
        "# Descriptive statistics for Percentage of votes at the EU level\n",
        "new_df.p_votes_eu.describe()"
      ],
      "execution_count": 88,
      "outputs": [
        {
          "output_type": "execute_result",
          "data": {
            "text/plain": [
              "count    121.000000\n",
              "mean      48.635537\n",
              "std       10.123256\n",
              "min       32.200000\n",
              "25%       39.400000\n",
              "50%       47.600000\n",
              "75%       56.500000\n",
              "max       77.700000\n",
              "Name: p_votes_eu, dtype: float64"
            ]
          },
          "metadata": {
            "tags": []
          },
          "execution_count": 88
        }
      ]
    },
    {
      "cell_type": "code",
      "metadata": {
        "id": "oGsyL1tAanFx",
        "colab_type": "code",
        "outputId": "c7d2c643-0dc5-4496-c984-431aab1f5784",
        "colab": {
          "base_uri": "https://localhost:8080/",
          "height": 34
        }
      },
      "source": [
        "st.median(new_df.p_votes_eu)"
      ],
      "execution_count": 89,
      "outputs": [
        {
          "output_type": "execute_result",
          "data": {
            "text/plain": [
              "47.6"
            ]
          },
          "metadata": {
            "tags": []
          },
          "execution_count": 89
        }
      ]
    },
    {
      "cell_type": "markdown",
      "metadata": {
        "id": "w9EFa0egQ3-R",
        "colab_type": "text"
      },
      "source": [
        "The mean and median are similar, thanks to this observation, together with the minimum and maximum values, we can state that there are not outliers. This will also be showed graphically."
      ]
    },
    {
      "cell_type": "markdown",
      "metadata": {
        "id": "SCkEOvS0PBSd",
        "colab_type": "text"
      },
      "source": [
        "### Votes Local"
      ]
    },
    {
      "cell_type": "code",
      "metadata": {
        "id": "dMLIWBFvPJql",
        "colab_type": "code",
        "outputId": "7fc0ef3a-f3a5-46ca-8d32-88e30b5bf973",
        "colab": {
          "base_uri": "https://localhost:8080/",
          "height": 176
        }
      },
      "source": [
        "# Descriptive statistics for Percentage of votes at the local level\n",
        "new_df.p_votes_c.describe()"
      ],
      "execution_count": 90,
      "outputs": [
        {
          "output_type": "execute_result",
          "data": {
            "text/plain": [
              "count    121.000000\n",
              "mean      31.719008\n",
              "std       13.389531\n",
              "min       10.900000\n",
              "25%       21.600000\n",
              "50%       29.400000\n",
              "75%       41.400000\n",
              "max       69.100000\n",
              "Name: p_votes_c, dtype: float64"
            ]
          },
          "metadata": {
            "tags": []
          },
          "execution_count": 90
        }
      ]
    },
    {
      "cell_type": "code",
      "metadata": {
        "id": "4fhvTfzWPVpe",
        "colab_type": "code",
        "outputId": "2336b64a-6cb9-4349-c82a-38552f32a28a",
        "colab": {
          "base_uri": "https://localhost:8080/",
          "height": 34
        }
      },
      "source": [
        "st.median(df.p_votes_c)"
      ],
      "execution_count": 91,
      "outputs": [
        {
          "output_type": "execute_result",
          "data": {
            "text/plain": [
              "29.4"
            ]
          },
          "metadata": {
            "tags": []
          },
          "execution_count": 91
        }
      ]
    },
    {
      "cell_type": "markdown",
      "metadata": {
        "id": "jSH4fL3sRVCq",
        "colab_type": "text"
      },
      "source": [
        "As for the votes at local level, the minimum and the maximum values suggest that the values range is larger and that, on average, the votes for the right wing at European level exceed the votes for the right wing at local level."
      ]
    },
    {
      "cell_type": "markdown",
      "metadata": {
        "id": "gmD63J5KUO6q",
        "colab_type": "text"
      },
      "source": [
        "###Population"
      ]
    },
    {
      "cell_type": "code",
      "metadata": {
        "colab_type": "code",
        "outputId": "d5c65855-4f5e-41f3-d96d-1fcefd5af2da",
        "id": "EERvgwBVUvJS",
        "colab": {
          "base_uri": "https://localhost:8080/",
          "height": 176
        }
      },
      "source": [
        "# Descriptive statistics for Population\n",
        "new_df.population.describe()"
      ],
      "execution_count": 92,
      "outputs": [
        {
          "output_type": "execute_result",
          "data": {
            "text/plain": [
              "count       121.000000\n",
              "mean      17268.768595\n",
              "std       28460.167208\n",
              "min         718.000000\n",
              "25%        5513.000000\n",
              "50%       10346.000000\n",
              "75%       16768.000000\n",
              "max      185273.000000\n",
              "Name: population, dtype: float64"
            ]
          },
          "metadata": {
            "tags": []
          },
          "execution_count": 92
        }
      ]
    },
    {
      "cell_type": "code",
      "metadata": {
        "id": "9DKDLtx3WbvU",
        "colab_type": "code",
        "outputId": "5d0e2f95-1ed8-4780-b176-78ea722cac62",
        "colab": {
          "base_uri": "https://localhost:8080/",
          "height": 34
        }
      },
      "source": [
        "st.median(new_df.population)"
      ],
      "execution_count": 93,
      "outputs": [
        {
          "output_type": "execute_result",
          "data": {
            "text/plain": [
              "10346"
            ]
          },
          "metadata": {
            "tags": []
          },
          "execution_count": 93
        }
      ]
    },
    {
      "cell_type": "markdown",
      "metadata": {
        "id": "B42WJ752W_dV",
        "colab_type": "text"
      },
      "source": [
        "The population size is not homogeneous, in order to make a more accurate analysis, the municipalities will be split in population intervals and categorical variables will be used. It would be more difficult to interpret how the outcomes changes when the population increases by one citizen."
      ]
    },
    {
      "cell_type": "markdown",
      "metadata": {
        "id": "Qy_Q3eiIYtX0",
        "colab_type": "text"
      },
      "source": [
        "## Scatter Plots"
      ]
    },
    {
      "cell_type": "code",
      "metadata": {
        "id": "AR0MJVOOXysN",
        "colab_type": "code",
        "outputId": "f6896acf-8c01-4019-ba9c-f89d29e67dcd",
        "colab": {
          "base_uri": "https://localhost:8080/",
          "height": 375
        }
      },
      "source": [
        "# Scatter plot 1: difference in votes as population increases\n",
        "plt.scatter(new_df.population, new_df.diff_dx, marker='<', c='black')\n",
        "plt.title('Scatter plot 1: difference in votes as population increases')\n",
        "plt.xlabel('Population')\n",
        "plt.ylabel('Difference in votes')\n",
        "plt.show()"
      ],
      "execution_count": 94,
      "outputs": [
        {
          "output_type": "display_data",
          "data": {
            "image/png": "[encoded data removed]",
            "text/plain": [
              "<Figure size 576x396 with 1 Axes>"
            ]
          },
          "metadata": {
            "tags": []
          }
        }
      ]
    },
    {
      "cell_type": "code",
      "metadata": {
        "id": "jiObhTCacxca",
        "colab_type": "code",
        "outputId": "313f2189-061d-4eee-e397-0e0e599cd265",
        "colab": {
          "base_uri": "https://localhost:8080/",
          "height": 375
        }
      },
      "source": [
        "# Scatter plot 2: EU votes as population increases\n",
        "plt.scatter(new_df.population, new_df.p_votes_eu, marker='o')\n",
        "plt.title('Scatter plot 2: EU votes as population increases')\n",
        "plt.xlabel('Population')\n",
        "plt.ylabel('EU votes')\n",
        "plt.show()"
      ],
      "execution_count": 95,
      "outputs": [
        {
          "output_type": "display_data",
          "data": {
            "image/png": "[encoded data removed]",
            "text/plain": [
              "<Figure size 576x396 with 1 Axes>"
            ]
          },
          "metadata": {
            "tags": []
          }
        }
      ]
    },
    {
      "cell_type": "code",
      "metadata": {
        "id": "m1nXenCWXy7_",
        "colab_type": "code",
        "outputId": "558406ec-9c3b-409f-d802-39ad8fe01460",
        "colab": {
          "base_uri": "https://localhost:8080/",
          "height": 375
        }
      },
      "source": [
        "# Scatter plot 3: Local votes as population increases\n",
        "plt.scatter(new_df.population, new_df.p_votes_c, marker='o')\n",
        "plt.title('Scatter plot 3: Local votes as population increases')\n",
        "plt.xlabel('Population')\n",
        "plt.ylabel('Local votes')\n",
        "plt.show()"
      ],
      "execution_count": 96,
      "outputs": [
        {
          "output_type": "display_data",
          "data": {
            "image/png": "[encoded data removed]",
            "text/plain": [
              "<Figure size 576x396 with 1 Axes>"
            ]
          },
          "metadata": {
            "tags": []
          }
        }
      ]
    },
    {
      "cell_type": "markdown",
      "metadata": {
        "id": "Tru40Z-KhNER",
        "colab_type": "text"
      },
      "source": [
        "The scatter plots show a correlation between the size of the population and the votes.\n",
        "\n",
        "1.   Scatter plot 1: there is a slight trend showing that the difference gets bigger as population increases. For municipalities with more than 25,000 inhabitants, the observed difference is almost always (two exceptions) smaller than 20%. The relationship seems to be negative.\n",
        "2.   Scattor plots 2 and 3 show that the right party gets more votes at the European level compared to the ones it gets at local level."
      ]
    },
    {
      "cell_type": "markdown",
      "metadata": {
        "id": "IUl9JA761lJ-",
        "colab_type": "text"
      },
      "source": [
        "##Histogram"
      ]
    },
    {
      "cell_type": "markdown",
      "metadata": {
        "id": "SZ5RS_Lx8oR0",
        "colab_type": "text"
      },
      "source": [
        "\\begin{equation}\n",
        "Number \\space of \\space bins=\\frac{max-min}{2*IQR* n^-\\frac{1}{3}}\n",
        "\\end{equation}"
      ]
    },
    {
      "cell_type": "code",
      "metadata": {
        "id": "p5WoQJMSoqUH",
        "colab_type": "code",
        "outputId": "3866c566-594c-485c-ebf6-a904bb571c4b",
        "colab": {
          "base_uri": "https://localhost:8080/",
          "height": 265
        }
      },
      "source": [
        "# Creating one categorical variable for population ranges\n",
        "new_df['pop_range'] = 1\n",
        "new_df.loc[(new_df['population'] > 500) & (new_df['population'] <= 999), 'pop_range'] = 2\n",
        "new_df.loc[(new_df['population'] > 1000) & (new_df['population'] <= 1999), 'pop_range'] = 3\n",
        "new_df.loc[(new_df['population'] > 2000) & (new_df['population'] <= 2999), 'pop_range'] = 4\n",
        "new_df.loc[(new_df['population'] > 3000) & (new_df['population'] <= 4999), 'pop_range'] = 5\n",
        "new_df.loc[(new_df['population'] > 5000) & (new_df['population'] <= 9999), 'pop_range'] = 6\n",
        "new_df.loc[(new_df['population'] > 10000) & (new_df['population'] <= 19999), 'pop_range'] = 7\n",
        "new_df.loc[(new_df['population'] > 20000) & (new_df['population'] <= 59999), 'pop_range'] = 8\n",
        "new_df.loc[(new_df['population'] > 60000) & (new_df['population'] <= 99999), 'pop_range'] = 9\n",
        "new_df.loc[new_df['population'] > 100000, 'pop_range'] = 10\n",
        "print (new_df)"
      ],
      "execution_count": 97,
      "outputs": [
        {
          "output_type": "stream",
          "text": [
            "     population           municipality  ...  diff_dx  pop_range\n",
            "0           972               MORFASSO  ...     66.8          2\n",
            "1          8898              FISCAGLIA  ...     42.1          6\n",
            "2         15957              NONANTOLA  ...     21.4          7\n",
            "3          9110               REGGIOLO  ...     27.0          6\n",
            "4         19234            CASALGRANDE  ...     27.8          7\n",
            "..          ...                    ...  ...      ...        ...\n",
            "116       14833                RUBIERA  ...    -20.7          7\n",
            "117         777            PREMILCUORE  ...     -2.2          2\n",
            "118       10802  SAN FELICE SUL PANARO  ...     -5.2          7\n",
            "119        1874     ROCCA SAN CASCIANO  ...     -5.2          3\n",
            "120         718                   BORE  ...     -3.8          2\n",
            "\n",
            "[121 rows x 7 columns]\n"
          ],
          "name": "stdout"
        }
      ]
    },
    {
      "cell_type": "code",
      "metadata": {
        "id": "jtqMwuX01qAT",
        "colab_type": "code",
        "outputId": "7b257dc4-2f03-4e82-a884-ce4d245a33a1",
        "colab": {
          "base_uri": "https://localhost:8080/",
          "height": 380
        }
      },
      "source": [
        "# Histogram: population\n",
        "plt.style.use('ggplot')\n",
        "plt.hist(new_df.pop_range, bins=8)\n",
        "plt.title(\"Histogram: Population\")\n",
        "plt.xlabel(\"Population range\")\n",
        "plt.ylabel(\"Density\")\n",
        "plt.show()"
      ],
      "execution_count": 98,
      "outputs": [
        {
          "output_type": "display_data",
          "data": {
            "image/png": "[encoded data removed]",
            "text/plain": [
              "<Figure size 576x396 with 1 Axes>"
            ]
          },
          "metadata": {
            "tags": []
          }
        }
      ]
    },
    {
      "cell_type": "code",
      "metadata": {
        "id": "Xb_SP2rp3x_X",
        "colab_type": "code",
        "outputId": "0ac9ea94-552e-4b7b-f008-afdc883d3944",
        "colab": {
          "base_uri": "https://localhost:8080/",
          "height": 34
        }
      },
      "source": [
        "# Skewness\n",
        "print (skew(new_df.pop_range))"
      ],
      "execution_count": 99,
      "outputs": [
        {
          "output_type": "stream",
          "text": [
            "-0.6626221329230414\n"
          ],
          "name": "stdout"
        }
      ]
    },
    {
      "cell_type": "markdown",
      "metadata": {
        "id": "9l9Aposw4EbI",
        "colab_type": "text"
      },
      "source": [
        "Both the skewness and the histogram suggest a negative skew.\n",
        "The population data is not uniformely distributed around the average. In fact, in this case, the data set has its tail extended towards the left, meaning that both the mean and the median are smaller than the mode of the data set.\n"
      ]
    },
    {
      "cell_type": "markdown",
      "metadata": {
        "id": "O3EfNNxDqS4Q",
        "colab_type": "text"
      },
      "source": [
        "## Population ranges"
      ]
    },
    {
      "cell_type": "markdown",
      "metadata": {
        "id": "yqRixd0Bl4RI",
        "colab_type": "text"
      },
      "source": [
        "The next step is to divide the municipalities according to different population ranges. The ranges considered follow the classification made by the Italian National Institute of Statistics (ISTAT):\n",
        "1. Less than 500,\n",
        "2. between 500 and 999;\n",
        "3. between 1,000 and  1,999;\n",
        "4. between 2,000 and 2,999;\n",
        "5. between 3,000 and 4,999;\n",
        "6. between 5,000 and 9,999;\n",
        "7. between 10,000 and 19,999;\n",
        "8. between 20,000 and 59,999;\n",
        "9. between 60,000 and 99,999;\n",
        "10. between 100,000 and 249,000."
      ]
    },
    {
      "cell_type": "code",
      "metadata": {
        "id": "dOuLh2kr0Vfx",
        "colab_type": "code",
        "outputId": "a78bb36b-8d59-48df-a433-bf14e5c63b4a",
        "colab": {
          "base_uri": "https://localhost:8080/",
          "height": 176
        }
      },
      "source": [
        "# Descriptive statistics for the new variable Population range\n",
        "new_df.pop_range.describe()"
      ],
      "execution_count": 101,
      "outputs": [
        {
          "output_type": "execute_result",
          "data": {
            "text/plain": [
              "count    121.000000\n",
              "mean       6.239669\n",
              "std        1.732170\n",
              "min        2.000000\n",
              "25%        6.000000\n",
              "50%        7.000000\n",
              "75%        7.000000\n",
              "max       10.000000\n",
              "Name: pop_range, dtype: float64"
            ]
          },
          "metadata": {
            "tags": []
          },
          "execution_count": 101
        }
      ]
    },
    {
      "cell_type": "markdown",
      "metadata": {
        "id": "kpSV-3dKsKMr",
        "colab_type": "text"
      },
      "source": [
        "I created a new variable 'pop_range' that classifies the municipalities per number of inhabitants, according to the classification reported above."
      ]
    },
    {
      "cell_type": "code",
      "metadata": {
        "id": "xMvWPqvQqwOC",
        "colab_type": "code",
        "outputId": "3041a132-393d-48bb-b828-9d92e3dc37f5",
        "colab": {
          "base_uri": "https://localhost:8080/",
          "height": 380
        }
      },
      "source": [
        "# Bar Plot: Population range against Local votes\n",
        "plt.bar( new_df.pop_range, new_df.p_votes_c, width=0.9,color='b',align='center')\n",
        "plt.title(\"Bar Plot: Population range vs Local votes\")\n",
        "plt.xlabel(\"Population range\")\n",
        "plt.ylabel(\"Local votes\")\n",
        "plt.show()"
      ],
      "execution_count": 102,
      "outputs": [
        {
          "output_type": "display_data",
          "data": {
            "image/png": "[encoded data removed]",
            "text/plain": [
              "<Figure size 576x396 with 1 Axes>"
            ]
          },
          "metadata": {
            "tags": []
          }
        }
      ]
    },
    {
      "cell_type": "code",
      "metadata": {
        "id": "oJ6nMpXQ7BZ7",
        "colab_type": "code",
        "outputId": "5239f4f3-da5c-481d-a6c5-038df70760af",
        "colab": {
          "base_uri": "https://localhost:8080/",
          "height": 317
        }
      },
      "source": [
        "# Local votes average by population range\n",
        "new_df.groupby(\"pop_range\", as_index=False)[\"p_votes_c\"].mean()"
      ],
      "execution_count": 103,
      "outputs": [
        {
          "output_type": "execute_result",
          "data": {
            "text/html": [
              "<div>\n",
              "<style scoped>\n",
              "    .dataframe tbody tr th:only-of-type {\n",
              "        vertical-align: middle;\n",
              "    }\n",
              "\n",
              "    .dataframe tbody tr th {\n",
              "        vertical-align: top;\n",
              "    }\n",
              "\n",
              "    .dataframe thead th {\n",
              "        text-align: right;\n",
              "    }\n",
              "</style>\n",
              "<table border=\"1\" class=\"dataframe\">\n",
              "  <thead>\n",
              "    <tr style=\"text-align: right;\">\n",
              "      <th></th>\n",
              "      <th>pop_range</th>\n",
              "      <th>p_votes_c</th>\n",
              "    </tr>\n",
              "  </thead>\n",
              "  <tbody>\n",
              "    <tr>\n",
              "      <th>0</th>\n",
              "      <td>2</td>\n",
              "      <td>45.528571</td>\n",
              "    </tr>\n",
              "    <tr>\n",
              "      <th>1</th>\n",
              "      <td>3</td>\n",
              "      <td>40.500000</td>\n",
              "    </tr>\n",
              "    <tr>\n",
              "      <th>2</th>\n",
              "      <td>4</td>\n",
              "      <td>36.728571</td>\n",
              "    </tr>\n",
              "    <tr>\n",
              "      <th>3</th>\n",
              "      <td>5</td>\n",
              "      <td>28.833333</td>\n",
              "    </tr>\n",
              "    <tr>\n",
              "      <th>4</th>\n",
              "      <td>6</td>\n",
              "      <td>28.284848</td>\n",
              "    </tr>\n",
              "    <tr>\n",
              "      <th>5</th>\n",
              "      <td>7</td>\n",
              "      <td>30.742500</td>\n",
              "    </tr>\n",
              "    <tr>\n",
              "      <th>6</th>\n",
              "      <td>8</td>\n",
              "      <td>30.760000</td>\n",
              "    </tr>\n",
              "    <tr>\n",
              "      <th>7</th>\n",
              "      <td>9</td>\n",
              "      <td>31.000000</td>\n",
              "    </tr>\n",
              "    <tr>\n",
              "      <th>8</th>\n",
              "      <td>10</td>\n",
              "      <td>38.550000</td>\n",
              "    </tr>\n",
              "  </tbody>\n",
              "</table>\n",
              "</div>"
            ],
            "text/plain": [
              "   pop_range  p_votes_c\n",
              "0          2  45.528571\n",
              "1          3  40.500000\n",
              "2          4  36.728571\n",
              "3          5  28.833333\n",
              "4          6  28.284848\n",
              "5          7  30.742500\n",
              "6          8  30.760000\n",
              "7          9  31.000000\n",
              "8         10  38.550000"
            ]
          },
          "metadata": {
            "tags": []
          },
          "execution_count": 103
        }
      ]
    },
    {
      "cell_type": "code",
      "metadata": {
        "id": "FSffHhkg4d-g",
        "colab_type": "code",
        "outputId": "56f10263-36c5-406b-c458-d799593fcc13",
        "colab": {
          "base_uri": "https://localhost:8080/",
          "height": 317
        }
      },
      "source": [
        "# EU votes average by population range\n",
        "new_df.groupby(\"pop_range\", as_index=False)[\"p_votes_eu\"].mean()"
      ],
      "execution_count": 0,
      "outputs": [
        {
          "output_type": "execute_result",
          "data": {
            "text/html": [
              "<div>\n",
              "<style scoped>\n",
              "    .dataframe tbody tr th:only-of-type {\n",
              "        vertical-align: middle;\n",
              "    }\n",
              "\n",
              "    .dataframe tbody tr th {\n",
              "        vertical-align: top;\n",
              "    }\n",
              "\n",
              "    .dataframe thead th {\n",
              "        text-align: right;\n",
              "    }\n",
              "</style>\n",
              "<table border=\"1\" class=\"dataframe\">\n",
              "  <thead>\n",
              "    <tr style=\"text-align: right;\">\n",
              "      <th></th>\n",
              "      <th>pop_range</th>\n",
              "      <th>p_votes_eu</th>\n",
              "    </tr>\n",
              "  </thead>\n",
              "  <tbody>\n",
              "    <tr>\n",
              "      <th>0</th>\n",
              "      <td>2</td>\n",
              "      <td>65.057143</td>\n",
              "    </tr>\n",
              "    <tr>\n",
              "      <th>1</th>\n",
              "      <td>3</td>\n",
              "      <td>60.300000</td>\n",
              "    </tr>\n",
              "    <tr>\n",
              "      <th>2</th>\n",
              "      <td>4</td>\n",
              "      <td>58.285714</td>\n",
              "    </tr>\n",
              "    <tr>\n",
              "      <th>3</th>\n",
              "      <td>5</td>\n",
              "      <td>55.977778</td>\n",
              "    </tr>\n",
              "    <tr>\n",
              "      <th>4</th>\n",
              "      <td>6</td>\n",
              "      <td>48.366667</td>\n",
              "    </tr>\n",
              "    <tr>\n",
              "      <th>5</th>\n",
              "      <td>7</td>\n",
              "      <td>44.637500</td>\n",
              "    </tr>\n",
              "    <tr>\n",
              "      <th>6</th>\n",
              "      <td>8</td>\n",
              "      <td>43.246667</td>\n",
              "    </tr>\n",
              "    <tr>\n",
              "      <th>7</th>\n",
              "      <td>9</td>\n",
              "      <td>39.850000</td>\n",
              "    </tr>\n",
              "    <tr>\n",
              "      <th>8</th>\n",
              "      <td>10</td>\n",
              "      <td>41.625000</td>\n",
              "    </tr>\n",
              "  </tbody>\n",
              "</table>\n",
              "</div>"
            ],
            "text/plain": [
              "   pop_range  p_votes_eu\n",
              "0          2   65.057143\n",
              "1          3   60.300000\n",
              "2          4   58.285714\n",
              "3          5   55.977778\n",
              "4          6   48.366667\n",
              "5          7   44.637500\n",
              "6          8   43.246667\n",
              "7          9   39.850000\n",
              "8         10   41.625000"
            ]
          },
          "metadata": {
            "tags": []
          },
          "execution_count": 65
        }
      ]
    },
    {
      "cell_type": "code",
      "metadata": {
        "id": "LMj6OUJ_vILy",
        "colab_type": "code",
        "outputId": "e1050751-31f6-402d-abe8-76016bba255f",
        "colab": {
          "base_uri": "https://localhost:8080/",
          "height": 346
        }
      },
      "source": [
        "# Clustered bar plot of EU and local votes\n",
        "p_votes_eu = [65.1, 60.3, 58.3, 56.0, 48.4, 44.6, 43.2, 39.9, 41.6]\n",
        "p_votes_c = [45.5, 40.5, 36.7, 28.8, 28.3, 30.7, 30.8, 31, 38.6]\n",
        "pop_range = ['2', '3','4', '5', '6', '7', '8','9','10']\n",
        "df = pd.DataFrame({'p_votes_eu': p_votes_eu,\n",
        "                    'p_votes_c': p_votes_c}, index=pop_range)\n",
        "ax = df.plot.bar(rot=0)\n"
      ],
      "execution_count": 104,
      "outputs": [
        {
          "output_type": "display_data",
          "data": {
            "image/png": "[encoded data removed]",
            "text/plain": [
              "<Figure size 576x396 with 1 Axes>"
            ]
          },
          "metadata": {
            "tags": []
          }
        }
      ]
    },
    {
      "cell_type": "markdown",
      "metadata": {
        "id": "k4XgsSo6vtcG",
        "colab_type": "text"
      },
      "source": [
        "The bar plot compares average votes at EU and local level for the different population ranges.\n"
      ]
    },
    {
      "cell_type": "markdown",
      "metadata": {
        "id": "RrmuHlcu-6R4",
        "colab_type": "text"
      },
      "source": [
        "## Regression 1"
      ]
    },
    {
      "cell_type": "markdown",
      "metadata": {
        "id": "1HPz2O07gtym",
        "colab_type": "text"
      },
      "source": [
        "\\begin{equation}\n",
        "diff\\_dx_i= \\alpha + \\beta \\space pop\\_range_i + \\epsilon_i \n",
        "\\end{equation}"
      ]
    },
    {
      "cell_type": "markdown",
      "metadata": {
        "id": "bJEouT0fLJk3",
        "colab_type": "text"
      },
      "source": [
        "Now, I will run a basic OLS regression, with one intercept and one independent variable. The independent variable is the categorical variable 'pop_range' and the result suggests the average increase in the percentage difference in votes when the population increases. This result is not easy to interpret, thus a new regression will be run, in the next regression a dummy variable will be assigned to each population range, thus there will be 10 independent dummy variables (one will be omitted to avoid multicollinearity)."
      ]
    },
    {
      "cell_type": "code",
      "metadata": {
        "id": "2DjhlKPvKGw9",
        "colab_type": "code",
        "outputId": "055f1d01-a23d-41e1-a6bb-2e26a94e9ca3",
        "colab": {
          "base_uri": "https://localhost:8080/",
          "height": 1000
        }
      },
      "source": [
        "# Regression 1\n",
        "x = np.array(new_df.pop_range)\n",
        "y = np.array(new_df.diff_dx)\n",
        "x, y = np.array(x), np.array(y)\n",
        "x = sm.add_constant(x)\n",
        "print(x)\n",
        "print(y)\n",
        "model = sm.OLS(y, x)\n",
        "results = model.fit()\n",
        "print(results.summary())\n"
      ],
      "execution_count": 116,
      "outputs": [
        {
          "output_type": "stream",
          "text": [
            "[[ 1.  2.]\n",
            " [ 1.  6.]\n",
            " [ 1.  7.]\n",
            " [ 1.  6.]\n",
            " [ 1.  7.]\n",
            " [ 1.  8.]\n",
            " [ 1.  7.]\n",
            " [ 1.  6.]\n",
            " [ 1.  7.]\n",
            " [ 1.  8.]\n",
            " [ 1.  4.]\n",
            " [ 1.  7.]\n",
            " [ 1.  5.]\n",
            " [ 1.  6.]\n",
            " [ 1.  2.]\n",
            " [ 1.  3.]\n",
            " [ 1.  5.]\n",
            " [ 1.  6.]\n",
            " [ 1.  7.]\n",
            " [ 1.  7.]\n",
            " [ 1.  7.]\n",
            " [ 1.  6.]\n",
            " [ 1.  6.]\n",
            " [ 1.  4.]\n",
            " [ 1.  5.]\n",
            " [ 1.  7.]\n",
            " [ 1.  6.]\n",
            " [ 1.  7.]\n",
            " [ 1.  6.]\n",
            " [ 1.  6.]\n",
            " [ 1.  6.]\n",
            " [ 1.  6.]\n",
            " [ 1.  8.]\n",
            " [ 1.  6.]\n",
            " [ 1.  7.]\n",
            " [ 1.  7.]\n",
            " [ 1.  7.]\n",
            " [ 1.  7.]\n",
            " [ 1.  6.]\n",
            " [ 1.  8.]\n",
            " [ 1.  8.]\n",
            " [ 1.  5.]\n",
            " [ 1.  6.]\n",
            " [ 1.  6.]\n",
            " [ 1.  6.]\n",
            " [ 1.  7.]\n",
            " [ 1.  8.]\n",
            " [ 1.  7.]\n",
            " [ 1.  6.]\n",
            " [ 1.  7.]\n",
            " [ 1.  3.]\n",
            " [ 1.  7.]\n",
            " [ 1.  9.]\n",
            " [ 1.  6.]\n",
            " [ 1.  6.]\n",
            " [ 1.  7.]\n",
            " [ 1. 10.]\n",
            " [ 1.  5.]\n",
            " [ 1.  8.]\n",
            " [ 1.  7.]\n",
            " [ 1.  6.]\n",
            " [ 1.  7.]\n",
            " [ 1.  7.]\n",
            " [ 1.  8.]\n",
            " [ 1.  8.]\n",
            " [ 1.  6.]\n",
            " [ 1.  7.]\n",
            " [ 1.  7.]\n",
            " [ 1. 10.]\n",
            " [ 1.  6.]\n",
            " [ 1.  6.]\n",
            " [ 1.  5.]\n",
            " [ 1.  8.]\n",
            " [ 1.  7.]\n",
            " [ 1.  7.]\n",
            " [ 1.  9.]\n",
            " [ 1.  7.]\n",
            " [ 1.  7.]\n",
            " [ 1.  7.]\n",
            " [ 1.  6.]\n",
            " [ 1.  6.]\n",
            " [ 1.  4.]\n",
            " [ 1.  7.]\n",
            " [ 1.  5.]\n",
            " [ 1.  8.]\n",
            " [ 1.  4.]\n",
            " [ 1.  6.]\n",
            " [ 1.  8.]\n",
            " [ 1.  8.]\n",
            " [ 1.  5.]\n",
            " [ 1.  7.]\n",
            " [ 1.  7.]\n",
            " [ 1.  4.]\n",
            " [ 1.  5.]\n",
            " [ 1.  7.]\n",
            " [ 1.  6.]\n",
            " [ 1.  7.]\n",
            " [ 1.  7.]\n",
            " [ 1.  6.]\n",
            " [ 1. 10.]\n",
            " [ 1.  7.]\n",
            " [ 1.  7.]\n",
            " [ 1.  8.]\n",
            " [ 1.  6.]\n",
            " [ 1.  6.]\n",
            " [ 1. 10.]\n",
            " [ 1.  6.]\n",
            " [ 1.  4.]\n",
            " [ 1.  8.]\n",
            " [ 1.  2.]\n",
            " [ 1.  4.]\n",
            " [ 1.  6.]\n",
            " [ 1.  2.]\n",
            " [ 1.  7.]\n",
            " [ 1.  3.]\n",
            " [ 1.  2.]\n",
            " [ 1.  7.]\n",
            " [ 1.  2.]\n",
            " [ 1.  7.]\n",
            " [ 1.  3.]\n",
            " [ 1.  2.]]\n",
            "[ 66.8  42.1  21.4  27.   27.8  23.7  43.8  33.7  24.   23.9  40.6  22.7\n",
            "  47.6  22.3  53.4  42.2  34.8  20.5  33.1  18.3  18.3  19.1  33.   40.\n",
            "  22.   30.8  35.7  17.8  22.4  40.3  22.7  20.3  11.4  19.3  29.   15.8\n",
            "  13.7  10.9  35.1  11.6  16.4  18.1  18.7  13.6  12.6  14.3  14.5  12.2\n",
            "   6.5  13.   39.2  11.   11.3  14.3   9.2   8.6   7.5  15.   15.4  21.9\n",
            "  17.8   6.9  14.8  16.8   8.8  29.    9.7   9.4   5.3  22.1  17.7  30.8\n",
            "  19.1   5.8  24.2   6.4  12.8  11.4  18.6  21.5  24.3   7.9   9.8  25.6\n",
            "   6.2  21.7  12.6   5.4   7.7  20.9   8.9  17.3  25.4  29.5  10.4   7.8\n",
            "   1.7   3.7  11.2  -0.8   3.9   1.5   3.8  15.9   4.9   0.3   5.9   4.9\n",
            "   2.6  19.2  10.4   3.6  -2.1   2.5   3.    5.4 -20.7  -2.2  -5.2  -5.2\n",
            "  -3.8]\n",
            "                            OLS Regression Results                            \n",
            "==============================================================================\n",
            "Dep. Variable:                      y   R-squared:                       0.082\n",
            "Model:                            OLS   Adj. R-squared:                  0.075\n",
            "Method:                 Least Squares   F-statistic:                     10.67\n",
            "Date:                Fri, 31 Jan 2020   Prob (F-statistic):            0.00143\n",
            "Time:                        10:19:18   Log-Likelihood:                -478.42\n",
            "No. Observations:                 121   AIC:                             960.8\n",
            "Df Residuals:                     119   BIC:                             966.4\n",
            "Df Model:                           1                                         \n",
            "Covariance Type:            nonrobust                                         \n",
            "==============================================================================\n",
            "                 coef    std err          t      P>|t|      [0.025      0.975]\n",
            "------------------------------------------------------------------------------\n",
            "const         30.5792      4.340      7.045      0.000      21.985      39.173\n",
            "x1            -2.1896      0.670     -3.266      0.001      -3.517      -0.862\n",
            "==============================================================================\n",
            "Omnibus:                        3.475   Durbin-Watson:                   0.616\n",
            "Prob(Omnibus):                  0.176   Jarque-Bera (JB):                3.788\n",
            "Skew:                           0.092   Prob(JB):                        0.150\n",
            "Kurtosis:                       3.847   Cond. No.                         24.8\n",
            "==============================================================================\n",
            "\n",
            "Warnings:\n",
            "[1] Standard Errors assume that the covariance matrix of the errors is correctly specified.\n"
          ],
          "name": "stdout"
        }
      ]
    },
    {
      "cell_type": "markdown",
      "metadata": {
        "id": "_Jljm-RgMjR4",
        "colab_type": "text"
      },
      "source": [
        "Regression 1 results: assuming, as stated before, that we can give a causal interpretation of this OLS regression, we can say that there is statistical evidence (p-value smaller than 0.05) that there is a negative relationship between the population and the difference in votes. On average, when passing from range *n* to range *n+1*, the difference in votes decreases by 2.2%."
      ]
    },
    {
      "cell_type": "markdown",
      "metadata": {
        "id": "OW89vY6bMrGj",
        "colab_type": "text"
      },
      "source": [
        "## Regression 2"
      ]
    },
    {
      "cell_type": "markdown",
      "metadata": {
        "id": "ivHfD14XhM5U",
        "colab_type": "text"
      },
      "source": [
        "\\begin{equation}\n",
        "diff\\_dx_i= \\beta_0 + \\beta_3 \\space range\\_3_i + \\beta_4 \\space range\\_4_i + \\beta_5 \\space range\\_5_i +\\beta_6 \\space range\\_6_i +\\beta_7 \\space range\\_7_i +\\beta_8 \\space range\\_8_i+ \\beta_9 \\space range\\_9_i+ \\beta_{10} \\space range\\_10_i+  \\epsilon_i \n",
        "\\end{equation}"
      ]
    },
    {
      "cell_type": "code",
      "metadata": {
        "id": "EWFc7qc9U0qM",
        "colab_type": "code",
        "outputId": "8adf07c7-5e01-4ea0-cffc-5e63e3c06ac0",
        "colab": {
          "base_uri": "https://localhost:8080/",
          "height": 460
        }
      },
      "source": [
        "# Creating dummy variables for population ranges\n",
        "new_df['range_1'] = 0\n",
        "new_df.loc[(new_df['pop_range'] == 1), 'range_1'] = 1\n",
        "new_df['range_2'] = 0\n",
        "new_df.loc[(new_df['pop_range'] == 2), 'range_2'] = 1\n",
        "new_df['range_3'] = 0\n",
        "new_df.loc[(new_df['pop_range'] == 3), 'range_3'] = 1\n",
        "new_df['range_4'] = 0\n",
        "new_df.loc[(new_df['pop_range'] == 4), 'range_4'] = 1\n",
        "new_df['range_5'] = 0\n",
        "new_df.loc[(new_df['pop_range'] == 5), 'range_5'] = 1\n",
        "new_df['range_6'] = 0\n",
        "new_df.loc[(new_df['pop_range'] == 6), 'range_6'] = 1\n",
        "new_df['range_7'] = 0\n",
        "new_df.loc[(new_df['pop_range'] == 7), 'range_7'] = 1\n",
        "new_df['range_8'] = 0\n",
        "new_df.loc[(new_df['pop_range'] == 8), 'range_8'] = 1\n",
        "new_df['range_9'] = 0\n",
        "new_df.loc[(new_df['pop_range'] == 9), 'range_9'] = 1\n",
        "new_df['range_10'] = 0\n",
        "new_df.loc[(new_df['pop_range'] == 10), 'range_10'] = 1\n",
        "display (new_df)\n"
      ],
      "execution_count": 110,
      "outputs": [
        {
          "output_type": "display_data",
          "data": {
            "text/html": [
              "<div>\n",
              "<style scoped>\n",
              "    .dataframe tbody tr th:only-of-type {\n",
              "        vertical-align: middle;\n",
              "    }\n",
              "\n",
              "    .dataframe tbody tr th {\n",
              "        vertical-align: top;\n",
              "    }\n",
              "\n",
              "    .dataframe thead th {\n",
              "        text-align: right;\n",
              "    }\n",
              "</style>\n",
              "<table border=\"1\" class=\"dataframe\">\n",
              "  <thead>\n",
              "    <tr style=\"text-align: right;\">\n",
              "      <th></th>\n",
              "      <th>population</th>\n",
              "      <th>municipality</th>\n",
              "      <th>p_votes_eu</th>\n",
              "      <th>turnover_eu</th>\n",
              "      <th>p_votes_c</th>\n",
              "      <th>diff_dx</th>\n",
              "      <th>pop_range</th>\n",
              "      <th>range_1</th>\n",
              "      <th>range_2</th>\n",
              "      <th>range_3</th>\n",
              "      <th>range_4</th>\n",
              "      <th>range_5</th>\n",
              "      <th>range_6</th>\n",
              "      <th>range_7</th>\n",
              "      <th>range_8</th>\n",
              "      <th>range_9</th>\n",
              "      <th>range_10</th>\n",
              "    </tr>\n",
              "  </thead>\n",
              "  <tbody>\n",
              "    <tr>\n",
              "      <th>0</th>\n",
              "      <td>972</td>\n",
              "      <td>MORFASSO</td>\n",
              "      <td>77.7</td>\n",
              "      <td>60.8</td>\n",
              "      <td>10.9</td>\n",
              "      <td>66.8</td>\n",
              "      <td>2</td>\n",
              "      <td>0</td>\n",
              "      <td>1</td>\n",
              "      <td>0</td>\n",
              "      <td>0</td>\n",
              "      <td>0</td>\n",
              "      <td>0</td>\n",
              "      <td>0</td>\n",
              "      <td>0</td>\n",
              "      <td>0</td>\n",
              "      <td>0</td>\n",
              "    </tr>\n",
              "    <tr>\n",
              "      <th>1</th>\n",
              "      <td>8898</td>\n",
              "      <td>FISCAGLIA</td>\n",
              "      <td>53.0</td>\n",
              "      <td>68.0</td>\n",
              "      <td>10.9</td>\n",
              "      <td>42.1</td>\n",
              "      <td>6</td>\n",
              "      <td>0</td>\n",
              "      <td>0</td>\n",
              "      <td>0</td>\n",
              "      <td>0</td>\n",
              "      <td>0</td>\n",
              "      <td>1</td>\n",
              "      <td>0</td>\n",
              "      <td>0</td>\n",
              "      <td>0</td>\n",
              "      <td>0</td>\n",
              "    </tr>\n",
              "    <tr>\n",
              "      <th>2</th>\n",
              "      <td>15957</td>\n",
              "      <td>NONANTOLA</td>\n",
              "      <td>33.6</td>\n",
              "      <td>69.3</td>\n",
              "      <td>12.2</td>\n",
              "      <td>21.4</td>\n",
              "      <td>7</td>\n",
              "      <td>0</td>\n",
              "      <td>0</td>\n",
              "      <td>0</td>\n",
              "      <td>0</td>\n",
              "      <td>0</td>\n",
              "      <td>0</td>\n",
              "      <td>1</td>\n",
              "      <td>0</td>\n",
              "      <td>0</td>\n",
              "      <td>0</td>\n",
              "    </tr>\n",
              "    <tr>\n",
              "      <th>3</th>\n",
              "      <td>9110</td>\n",
              "      <td>REGGIOLO</td>\n",
              "      <td>39.7</td>\n",
              "      <td>73.1</td>\n",
              "      <td>12.7</td>\n",
              "      <td>27.0</td>\n",
              "      <td>6</td>\n",
              "      <td>0</td>\n",
              "      <td>0</td>\n",
              "      <td>0</td>\n",
              "      <td>0</td>\n",
              "      <td>0</td>\n",
              "      <td>1</td>\n",
              "      <td>0</td>\n",
              "      <td>0</td>\n",
              "      <td>0</td>\n",
              "      <td>0</td>\n",
              "    </tr>\n",
              "    <tr>\n",
              "      <th>4</th>\n",
              "      <td>19234</td>\n",
              "      <td>CASALGRANDE</td>\n",
              "      <td>41.1</td>\n",
              "      <td>68.1</td>\n",
              "      <td>13.3</td>\n",
              "      <td>27.8</td>\n",
              "      <td>7</td>\n",
              "      <td>0</td>\n",
              "      <td>0</td>\n",
              "      <td>0</td>\n",
              "      <td>0</td>\n",
              "      <td>0</td>\n",
              "      <td>0</td>\n",
              "      <td>1</td>\n",
              "      <td>0</td>\n",
              "      <td>0</td>\n",
              "      <td>0</td>\n",
              "    </tr>\n",
              "    <tr>\n",
              "      <th>...</th>\n",
              "      <td>...</td>\n",
              "      <td>...</td>\n",
              "      <td>...</td>\n",
              "      <td>...</td>\n",
              "      <td>...</td>\n",
              "      <td>...</td>\n",
              "      <td>...</td>\n",
              "      <td>...</td>\n",
              "      <td>...</td>\n",
              "      <td>...</td>\n",
              "      <td>...</td>\n",
              "      <td>...</td>\n",
              "      <td>...</td>\n",
              "      <td>...</td>\n",
              "      <td>...</td>\n",
              "      <td>...</td>\n",
              "      <td>...</td>\n",
              "    </tr>\n",
              "    <tr>\n",
              "      <th>116</th>\n",
              "      <td>14833</td>\n",
              "      <td>RUBIERA</td>\n",
              "      <td>38.2</td>\n",
              "      <td>70.9</td>\n",
              "      <td>58.9</td>\n",
              "      <td>-20.7</td>\n",
              "      <td>7</td>\n",
              "      <td>0</td>\n",
              "      <td>0</td>\n",
              "      <td>0</td>\n",
              "      <td>0</td>\n",
              "      <td>0</td>\n",
              "      <td>0</td>\n",
              "      <td>1</td>\n",
              "      <td>0</td>\n",
              "      <td>0</td>\n",
              "      <td>0</td>\n",
              "    </tr>\n",
              "    <tr>\n",
              "      <th>117</th>\n",
              "      <td>777</td>\n",
              "      <td>PREMILCUORE</td>\n",
              "      <td>57.4</td>\n",
              "      <td>83.8</td>\n",
              "      <td>59.6</td>\n",
              "      <td>-2.2</td>\n",
              "      <td>2</td>\n",
              "      <td>0</td>\n",
              "      <td>1</td>\n",
              "      <td>0</td>\n",
              "      <td>0</td>\n",
              "      <td>0</td>\n",
              "      <td>0</td>\n",
              "      <td>0</td>\n",
              "      <td>0</td>\n",
              "      <td>0</td>\n",
              "      <td>0</td>\n",
              "    </tr>\n",
              "    <tr>\n",
              "      <th>118</th>\n",
              "      <td>10802</td>\n",
              "      <td>SAN FELICE SUL PANARO</td>\n",
              "      <td>56.1</td>\n",
              "      <td>72.7</td>\n",
              "      <td>61.3</td>\n",
              "      <td>-5.2</td>\n",
              "      <td>7</td>\n",
              "      <td>0</td>\n",
              "      <td>0</td>\n",
              "      <td>0</td>\n",
              "      <td>0</td>\n",
              "      <td>0</td>\n",
              "      <td>0</td>\n",
              "      <td>1</td>\n",
              "      <td>0</td>\n",
              "      <td>0</td>\n",
              "      <td>0</td>\n",
              "    </tr>\n",
              "    <tr>\n",
              "      <th>119</th>\n",
              "      <td>1874</td>\n",
              "      <td>ROCCA SAN CASCIANO</td>\n",
              "      <td>57.3</td>\n",
              "      <td>72.0</td>\n",
              "      <td>62.5</td>\n",
              "      <td>-5.2</td>\n",
              "      <td>3</td>\n",
              "      <td>0</td>\n",
              "      <td>0</td>\n",
              "      <td>1</td>\n",
              "      <td>0</td>\n",
              "      <td>0</td>\n",
              "      <td>0</td>\n",
              "      <td>0</td>\n",
              "      <td>0</td>\n",
              "      <td>0</td>\n",
              "      <td>0</td>\n",
              "    </tr>\n",
              "    <tr>\n",
              "      <th>120</th>\n",
              "      <td>718</td>\n",
              "      <td>BORE</td>\n",
              "      <td>65.3</td>\n",
              "      <td>77.3</td>\n",
              "      <td>69.1</td>\n",
              "      <td>-3.8</td>\n",
              "      <td>2</td>\n",
              "      <td>0</td>\n",
              "      <td>1</td>\n",
              "      <td>0</td>\n",
              "      <td>0</td>\n",
              "      <td>0</td>\n",
              "      <td>0</td>\n",
              "      <td>0</td>\n",
              "      <td>0</td>\n",
              "      <td>0</td>\n",
              "      <td>0</td>\n",
              "    </tr>\n",
              "  </tbody>\n",
              "</table>\n",
              "<p>121 rows × 17 columns</p>\n",
              "</div>"
            ],
            "text/plain": [
              "     population           municipality  p_votes_eu  ...  range_8  range_9  range_10\n",
              "0           972               MORFASSO        77.7  ...        0        0         0\n",
              "1          8898              FISCAGLIA        53.0  ...        0        0         0\n",
              "2         15957              NONANTOLA        33.6  ...        0        0         0\n",
              "3          9110               REGGIOLO        39.7  ...        0        0         0\n",
              "4         19234            CASALGRANDE        41.1  ...        0        0         0\n",
              "..          ...                    ...         ...  ...      ...      ...       ...\n",
              "116       14833                RUBIERA        38.2  ...        0        0         0\n",
              "117         777            PREMILCUORE        57.4  ...        0        0         0\n",
              "118       10802  SAN FELICE SUL PANARO        56.1  ...        0        0         0\n",
              "119        1874     ROCCA SAN CASCIANO        57.3  ...        0        0         0\n",
              "120         718                   BORE        65.3  ...        0        0         0\n",
              "\n",
              "[121 rows x 17 columns]"
            ]
          },
          "metadata": {
            "tags": []
          }
        }
      ]
    },
    {
      "cell_type": "code",
      "metadata": {
        "id": "OlZNNZU0WoKJ",
        "colab_type": "code",
        "outputId": "161cb6ee-8b79-451e-e68f-2034ec90d483",
        "colab": {
          "base_uri": "https://localhost:8080/",
          "height": 1000
        }
      },
      "source": [
        "# Regression 2\n",
        "x = new_df.range_3, new_df.range_4, new_df.range_5, new_df.range_6, new_df.range_7, new_df.range_8, new_df.range_9, new_df.range_10\n",
        "y = np.array(new_df.diff_dx)\n",
        "x = np.array (x)\n",
        "x, y = np.array(x), np.array(y)\n",
        "x = sm.add_constant(x)\n",
        "print(x)\n",
        "print(y)\n",
        "X = new_df[['range_3', 'range_4','range_5','range_6','range_7','range_8','range_9','range_10']] \n",
        "y = new_df['diff_dx']\n",
        "X = sm.add_constant(X)\n",
        "est = sm.OLS(y, X).fit()\n",
        "print(est.summary())"
      ],
      "execution_count": 117,
      "outputs": [
        {
          "output_type": "stream",
          "text": [
            "[[1. 0. 0. 0. 0. 0. 0. 0. 0. 0. 0. 0. 0. 0. 0. 0. 1. 0. 0. 0. 0. 0. 0. 0.\n",
            "  0. 0. 0. 0. 0. 0. 0. 0. 0. 0. 0. 0. 0. 0. 0. 0. 0. 0. 0. 0. 0. 0. 0. 0.\n",
            "  0. 0. 0. 1. 0. 0. 0. 0. 0. 0. 0. 0. 0. 0. 0. 0. 0. 0. 0. 0. 0. 0. 0. 0.\n",
            "  0. 0. 0. 0. 0. 0. 0. 0. 0. 0. 0. 0. 0. 0. 0. 0. 0. 0. 0. 0. 0. 0. 0. 0.\n",
            "  0. 0. 0. 0. 0. 0. 0. 0. 0. 0. 0. 0. 0. 0. 0. 0. 0. 0. 0. 1. 0. 0. 0. 0.\n",
            "  1. 0.]\n",
            " [1. 0. 0. 0. 0. 0. 0. 0. 0. 0. 0. 1. 0. 0. 0. 0. 0. 0. 0. 0. 0. 0. 0. 0.\n",
            "  1. 0. 0. 0. 0. 0. 0. 0. 0. 0. 0. 0. 0. 0. 0. 0. 0. 0. 0. 0. 0. 0. 0. 0.\n",
            "  0. 0. 0. 0. 0. 0. 0. 0. 0. 0. 0. 0. 0. 0. 0. 0. 0. 0. 0. 0. 0. 0. 0. 0.\n",
            "  0. 0. 0. 0. 0. 0. 0. 0. 0. 0. 1. 0. 0. 0. 1. 0. 0. 0. 0. 0. 0. 1. 0. 0.\n",
            "  0. 0. 0. 0. 0. 0. 0. 0. 0. 0. 0. 0. 1. 0. 0. 1. 0. 0. 0. 0. 0. 0. 0. 0.\n",
            "  0. 0.]\n",
            " [1. 0. 0. 0. 0. 0. 0. 0. 0. 0. 0. 0. 0. 1. 0. 0. 0. 1. 0. 0. 0. 0. 0. 0.\n",
            "  0. 1. 0. 0. 0. 0. 0. 0. 0. 0. 0. 0. 0. 0. 0. 0. 0. 0. 1. 0. 0. 0. 0. 0.\n",
            "  0. 0. 0. 0. 0. 0. 0. 0. 0. 0. 1. 0. 0. 0. 0. 0. 0. 0. 0. 0. 0. 0. 0. 0.\n",
            "  1. 0. 0. 0. 0. 0. 0. 0. 0. 0. 0. 0. 1. 0. 0. 0. 0. 0. 1. 0. 0. 0. 1. 0.\n",
            "  0. 0. 0. 0. 0. 0. 0. 0. 0. 0. 0. 0. 0. 0. 0. 0. 0. 0. 0. 0. 0. 0. 0. 0.\n",
            "  0. 0.]\n",
            " [1. 0. 1. 0. 1. 0. 0. 0. 1. 0. 0. 0. 0. 0. 1. 0. 0. 0. 1. 0. 0. 0. 1. 1.\n",
            "  0. 0. 0. 1. 0. 1. 1. 1. 1. 0. 1. 0. 0. 0. 0. 1. 0. 0. 0. 1. 1. 1. 0. 0.\n",
            "  0. 1. 0. 0. 0. 0. 1. 1. 0. 0. 0. 0. 0. 1. 0. 0. 0. 0. 1. 0. 0. 0. 1. 1.\n",
            "  0. 0. 0. 0. 0. 0. 0. 0. 1. 1. 0. 0. 0. 0. 0. 1. 0. 0. 0. 0. 0. 0. 0. 0.\n",
            "  1. 0. 0. 1. 0. 0. 0. 0. 1. 1. 0. 1. 0. 0. 0. 0. 1. 0. 0. 0. 0. 0. 0. 0.\n",
            "  0. 0.]\n",
            " [1. 0. 0. 1. 0. 1. 0. 1. 0. 1. 0. 0. 1. 0. 0. 0. 0. 0. 0. 1. 1. 1. 0. 0.\n",
            "  0. 0. 1. 0. 1. 0. 0. 0. 0. 0. 0. 1. 1. 1. 1. 0. 0. 0. 0. 0. 0. 0. 1. 0.\n",
            "  1. 0. 1. 0. 1. 0. 0. 0. 1. 0. 0. 0. 1. 0. 1. 1. 0. 0. 0. 1. 1. 0. 0. 0.\n",
            "  0. 0. 1. 1. 0. 1. 1. 1. 0. 0. 0. 1. 0. 0. 0. 0. 0. 0. 0. 1. 1. 0. 0. 1.\n",
            "  0. 1. 1. 0. 0. 1. 1. 0. 0. 0. 0. 0. 0. 0. 0. 0. 0. 0. 1. 0. 0. 1. 0. 1.\n",
            "  0. 0.]\n",
            " [1. 0. 0. 0. 0. 0. 1. 0. 0. 0. 1. 0. 0. 0. 0. 0. 0. 0. 0. 0. 0. 0. 0. 0.\n",
            "  0. 0. 0. 0. 0. 0. 0. 0. 0. 1. 0. 0. 0. 0. 0. 0. 1. 1. 0. 0. 0. 0. 0. 1.\n",
            "  0. 0. 0. 0. 0. 0. 0. 0. 0. 0. 0. 1. 0. 0. 0. 0. 1. 1. 0. 0. 0. 0. 0. 0.\n",
            "  0. 1. 0. 0. 0. 0. 0. 0. 0. 0. 0. 0. 0. 1. 0. 0. 1. 1. 0. 0. 0. 0. 0. 0.\n",
            "  0. 0. 0. 0. 0. 0. 0. 1. 0. 0. 0. 0. 0. 1. 0. 0. 0. 0. 0. 0. 0. 0. 0. 0.\n",
            "  0. 0.]\n",
            " [1. 0. 0. 0. 0. 0. 0. 0. 0. 0. 0. 0. 0. 0. 0. 0. 0. 0. 0. 0. 0. 0. 0. 0.\n",
            "  0. 0. 0. 0. 0. 0. 0. 0. 0. 0. 0. 0. 0. 0. 0. 0. 0. 0. 0. 0. 0. 0. 0. 0.\n",
            "  0. 0. 0. 0. 0. 1. 0. 0. 0. 0. 0. 0. 0. 0. 0. 0. 0. 0. 0. 0. 0. 0. 0. 0.\n",
            "  0. 0. 0. 0. 1. 0. 0. 0. 0. 0. 0. 0. 0. 0. 0. 0. 0. 0. 0. 0. 0. 0. 0. 0.\n",
            "  0. 0. 0. 0. 0. 0. 0. 0. 0. 0. 0. 0. 0. 0. 0. 0. 0. 0. 0. 0. 0. 0. 0. 0.\n",
            "  0. 0.]\n",
            " [1. 0. 0. 0. 0. 0. 0. 0. 0. 0. 0. 0. 0. 0. 0. 0. 0. 0. 0. 0. 0. 0. 0. 0.\n",
            "  0. 0. 0. 0. 0. 0. 0. 0. 0. 0. 0. 0. 0. 0. 0. 0. 0. 0. 0. 0. 0. 0. 0. 0.\n",
            "  0. 0. 0. 0. 0. 0. 0. 0. 0. 1. 0. 0. 0. 0. 0. 0. 0. 0. 0. 0. 0. 1. 0. 0.\n",
            "  0. 0. 0. 0. 0. 0. 0. 0. 0. 0. 0. 0. 0. 0. 0. 0. 0. 0. 0. 0. 0. 0. 0. 0.\n",
            "  0. 0. 0. 0. 1. 0. 0. 0. 0. 0. 1. 0. 0. 0. 0. 0. 0. 0. 0. 0. 0. 0. 0. 0.\n",
            "  0. 0.]]\n",
            "[ 66.8  42.1  21.4  27.   27.8  23.7  43.8  33.7  24.   23.9  40.6  22.7\n",
            "  47.6  22.3  53.4  42.2  34.8  20.5  33.1  18.3  18.3  19.1  33.   40.\n",
            "  22.   30.8  35.7  17.8  22.4  40.3  22.7  20.3  11.4  19.3  29.   15.8\n",
            "  13.7  10.9  35.1  11.6  16.4  18.1  18.7  13.6  12.6  14.3  14.5  12.2\n",
            "   6.5  13.   39.2  11.   11.3  14.3   9.2   8.6   7.5  15.   15.4  21.9\n",
            "  17.8   6.9  14.8  16.8   8.8  29.    9.7   9.4   5.3  22.1  17.7  30.8\n",
            "  19.1   5.8  24.2   6.4  12.8  11.4  18.6  21.5  24.3   7.9   9.8  25.6\n",
            "   6.2  21.7  12.6   5.4   7.7  20.9   8.9  17.3  25.4  29.5  10.4   7.8\n",
            "   1.7   3.7  11.2  -0.8   3.9   1.5   3.8  15.9   4.9   0.3   5.9   4.9\n",
            "   2.6  19.2  10.4   3.6  -2.1   2.5   3.    5.4 -20.7  -2.2  -5.2  -5.2\n",
            "  -3.8]\n",
            "                            OLS Regression Results                            \n",
            "==============================================================================\n",
            "Dep. Variable:                diff_dx   R-squared:                       0.146\n",
            "Model:                            OLS   Adj. R-squared:                  0.085\n",
            "Method:                 Least Squares   F-statistic:                     2.390\n",
            "Date:                Fri, 31 Jan 2020   Prob (F-statistic):             0.0204\n",
            "Time:                        10:19:54   Log-Likelihood:                -474.08\n",
            "No. Observations:                 121   AIC:                             966.2\n",
            "Df Residuals:                     112   BIC:                             991.3\n",
            "Df Model:                           8                                         \n",
            "Covariance Type:            nonrobust                                         \n",
            "==============================================================================\n",
            "                 coef    std err          t      P>|t|      [0.025      0.975]\n",
            "------------------------------------------------------------------------------\n",
            "const         19.5286      4.782      4.084      0.000      10.054      29.003\n",
            "range_3        0.2714      7.929      0.034      0.973     -15.440      15.983\n",
            "range_4        2.0286      6.762      0.300      0.765     -11.370      15.427\n",
            "range_5        7.6159      6.376      1.195      0.235      -5.016      20.248\n",
            "range_6        0.5532      5.264      0.105      0.916      -9.878      10.984\n",
            "range_7       -5.6336      5.183     -1.087      0.279     -15.903       4.636\n",
            "range_8       -7.0419      5.791     -1.216      0.227     -18.516       4.432\n",
            "range_9      -10.6786     10.143     -1.053      0.295     -30.776       9.419\n",
            "range_10     -16.4536      7.929     -2.075      0.040     -32.165      -0.742\n",
            "==============================================================================\n",
            "Omnibus:                       13.517   Durbin-Watson:                   0.748\n",
            "Prob(Omnibus):                  0.001   Jarque-Bera (JB):               19.492\n",
            "Skew:                           0.567   Prob(JB):                     5.85e-05\n",
            "Kurtosis:                       4.606   Cond. No.                         14.7\n",
            "==============================================================================\n",
            "\n",
            "Warnings:\n",
            "[1] Standard Errors assume that the covariance matrix of the errors is correctly specified.\n"
          ],
          "name": "stdout"
        }
      ]
    },
    {
      "cell_type": "markdown",
      "metadata": {
        "id": "ue59cdeEsIDd",
        "colab_type": "text"
      },
      "source": [
        "This second regression provides additional evidence of what we were looking for: as the population increases, the difference in votes, on average, decreases. The non homogeneous effect among the first ranges is still visible. However, it must be noticed that each range contains only a few observations and the regression run can only be interpreted as an approximation of the actual effect, moreover the p-values are not significantly different from zero."
      ]
    },
    {
      "cell_type": "markdown",
      "metadata": {
        "id": "dn96CeshGFXG",
        "colab_type": "text"
      },
      "source": [
        "## Regression 3"
      ]
    },
    {
      "cell_type": "markdown",
      "metadata": {
        "id": "FzPBYrFeIFxZ",
        "colab_type": "text"
      },
      "source": [
        "\\begin{equation}\n",
        "diff\\_dx_i= \\beta_0 + \\beta_3 \\space range\\_3_i + \\beta_4 \\space range\\_4_i + \\beta_5 \\space range\\_5_i +\\beta_6 \\space range\\_6_i +\\beta_7 \\space range\\_7_i +\\beta_8 \\space range\\_8_i+ \\beta_9 \\space range\\_9_i+ \\beta_{10} \\space range\\_10_i+  \\beta_{11} \\space turnover\\_eu_i + \\epsilon_i \n",
        "\\end{equation}"
      ]
    },
    {
      "cell_type": "code",
      "metadata": {
        "id": "CIrArKPMGOv3",
        "colab_type": "code",
        "colab": {
          "base_uri": "https://localhost:8080/",
          "height": 958
        },
        "outputId": "b9b766be-f046-431a-e91e-3e1cd8163043"
      },
      "source": [
        "# Regression 3\n",
        "x = new_df.range_3, new_df.range_4, new_df.range_5, new_df.range_6, new_df.range_7, new_df.range_8, new_df.range_9, new_df.range_10, new_df.turnover_eu\n",
        "y = np.array(new_df.diff_dx)\n",
        "x = np.array (x)\n",
        "x, y = np.array(x), np.array(y)\n",
        "x = sm.add_constant(x)\n",
        "print(x)\n",
        "print(y)\n",
        "X = new_df[['range_3', 'range_4','range_5','range_6','range_7','range_8','range_9','range_10','turnover_eu']] \n",
        "y = new_df['diff_dx']\n",
        "X = sm.add_constant(X)\n",
        "est = sm.OLS(y, X).fit()\n",
        "print(est.summary())"
      ],
      "execution_count": 113,
      "outputs": [
        {
          "output_type": "stream",
          "text": [
            "[[ 1.   0.   0.  ...  0.   1.   0. ]\n",
            " [ 1.   0.   0.  ...  0.   0.   0. ]\n",
            " [ 1.   0.   0.  ...  0.   0.   0. ]\n",
            " ...\n",
            " [ 1.   0.   0.  ...  0.   0.   0. ]\n",
            " [ 1.   0.   0.  ...  0.   0.   0. ]\n",
            " [ 1.  60.8 68.  ... 72.7 72.  77.3]]\n",
            "[ 66.8  42.1  21.4  27.   27.8  23.7  43.8  33.7  24.   23.9  40.6  22.7\n",
            "  47.6  22.3  53.4  42.2  34.8  20.5  33.1  18.3  18.3  19.1  33.   40.\n",
            "  22.   30.8  35.7  17.8  22.4  40.3  22.7  20.3  11.4  19.3  29.   15.8\n",
            "  13.7  10.9  35.1  11.6  16.4  18.1  18.7  13.6  12.6  14.3  14.5  12.2\n",
            "   6.5  13.   39.2  11.   11.3  14.3   9.2   8.6   7.5  15.   15.4  21.9\n",
            "  17.8   6.9  14.8  16.8   8.8  29.    9.7   9.4   5.3  22.1  17.7  30.8\n",
            "  19.1   5.8  24.2   6.4  12.8  11.4  18.6  21.5  24.3   7.9   9.8  25.6\n",
            "   6.2  21.7  12.6   5.4   7.7  20.9   8.9  17.3  25.4  29.5  10.4   7.8\n",
            "   1.7   3.7  11.2  -0.8   3.9   1.5   3.8  15.9   4.9   0.3   5.9   4.9\n",
            "   2.6  19.2  10.4   3.6  -2.1   2.5   3.    5.4 -20.7  -2.2  -5.2  -5.2\n",
            "  -3.8]\n",
            "                            OLS Regression Results                            \n",
            "==============================================================================\n",
            "Dep. Variable:                diff_dx   R-squared:                       0.268\n",
            "Model:                            OLS   Adj. R-squared:                  0.209\n",
            "Method:                 Least Squares   F-statistic:                     4.526\n",
            "Date:                Fri, 31 Jan 2020   Prob (F-statistic):           4.39e-05\n",
            "Time:                        10:16:54   Log-Likelihood:                -464.71\n",
            "No. Observations:                 121   AIC:                             949.4\n",
            "Df Residuals:                     111   BIC:                             977.4\n",
            "Df Model:                           9                                         \n",
            "Covariance Type:            nonrobust                                         \n",
            "===============================================================================\n",
            "                  coef    std err          t      P>|t|      [0.025      0.975]\n",
            "-------------------------------------------------------------------------------\n",
            "const         118.6328     23.401      5.070      0.000      72.262     165.004\n",
            "range_3        -7.2861      7.577     -0.962      0.338     -22.300       7.727\n",
            "range_4        -5.6051      6.531     -0.858      0.393     -18.546       7.336\n",
            "range_5         3.9228      5.988      0.655      0.514      -7.943      15.789\n",
            "range_6        -3.9515      5.004     -0.790      0.431     -13.867       5.964\n",
            "range_7        -9.0935      4.885     -1.862      0.065     -18.773       0.586\n",
            "range_8       -10.7883      5.453     -1.978      0.050     -21.593       0.017\n",
            "range_9       -14.2384      9.465     -1.504      0.135     -32.995       4.518\n",
            "range_10      -21.4792      7.463     -2.878      0.005     -36.267      -6.691\n",
            "turnover_eu    -1.3326      0.309     -4.314      0.000      -1.945      -0.720\n",
            "==============================================================================\n",
            "Omnibus:                        3.673   Durbin-Watson:                   0.921\n",
            "Prob(Omnibus):                  0.159   Jarque-Bera (JB):                3.881\n",
            "Skew:                           0.149   Prob(JB):                        0.144\n",
            "Kurtosis:                       3.825   Cond. No.                     1.62e+03\n",
            "==============================================================================\n",
            "\n",
            "Warnings:\n",
            "[1] Standard Errors assume that the covariance matrix of the errors is correctly specified.\n",
            "[2] The condition number is large, 1.62e+03. This might indicate that there are\n",
            "strong multicollinearity or other numerical problems.\n"
          ],
          "name": "stdout"
        }
      ]
    },
    {
      "cell_type": "markdown",
      "metadata": {
        "id": "SE3JnpZdHW1I",
        "colab_type": "text"
      },
      "source": [
        "Adding the control variable 'turnover_eu' makes the regression perform better, with some statistically significant coefficients: ranges 7, 8 and 10, with the and adjusted R-squared improving as well."
      ]
    },
    {
      "cell_type": "markdown",
      "metadata": {
        "id": "lfHO396pmG1U",
        "colab_type": "text"
      },
      "source": [
        "# Discussion and conclusion\n",
        "\n"
      ]
    },
    {
      "cell_type": "markdown",
      "metadata": {
        "id": "w2-Wf0UXROga",
        "colab_type": "text"
      },
      "source": [
        "In conclusion, as the literature already showed, there is evidence of a negative relationship between the strength of the traditional parties and the size of the municipality. This is probably due to the fact that, in smaller municipalities, there are often personal relationships among the voters, and the distance with the top-down parties is perceived more strongly. Therefore, this analysis shows that, as the population decreases, the voters are more willing to vote (at local elections) for a local party, instead of voting for the same party they voted at the European elections. An important note is that, in the current dataset, the right wing party is always in the running both at local elections and at European elections."
      ]
    },
    {
      "cell_type": "markdown",
      "metadata": {
        "id": "khPhGNXrOkAP",
        "colab_type": "text"
      },
      "source": [
        "### Weakness\n",
        "The regression run is not substiantally valid, from an econometric point of view. In fact, there is no randomization and the causality can not be explained. However, a further analysis may envisage the splitting of the dataset into two groups, above and below the median of the turnover (a variable which is available in the dataset), in order to introduce randomization. Moreover, a set of control variables should be introduced, i.e. morphology, wealth, average population age and so on.\n",
        "Another relevant weakness is that the it is a cross section analysis, and it would be intersting to analyze if the results vary over time. Moreover, lately, parties are more and more focused on the people leading the party rather than on political principles, thus making it difficult to compare the political current situation to the past.\n",
        "\n"
      ]
    }
  ]
}